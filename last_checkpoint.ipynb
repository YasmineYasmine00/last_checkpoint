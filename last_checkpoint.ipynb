{
  "nbformat": 4,
  "nbformat_minor": 0,
  "metadata": {
    "colab": {
      "name": "last_checkpoint",
      "provenance": []
    },
    "kernelspec": {
      "name": "python3",
      "display_name": "Python 3"
    },
    "language_info": {
      "name": "python"
    }
  },
  "cells": [
    {
      "cell_type": "code",
      "source": [
        "import time\n",
        "  # input time in seconds\n",
        "t = int(input(\"Enter the time in seconds: \"))\n",
        "\n",
        "# define the countdown func.\n",
        "def countdown(t):\n",
        "  while t>0:\n",
        "    mins, secs = divmod(t, 60)\n",
        "    print('{:02d}:{:02d}'.format(mins, secs), end=\"\\r\")\n",
        "    time.sleep(1)\n",
        "    t -= 1\n",
        "  print('Fire in the hole')\n",
        "\n",
        "# function call\n",
        "countdown(t)\n",
        "\n",
        "  \n"
      ],
      "metadata": {
        "colab": {
          "base_uri": "https://localhost:8080/"
        },
        "id": "O4eXjx6rN2kz",
        "outputId": "3660e5d4-f6af-47a3-9c6d-cc4a6136b03a"
      },
      "execution_count": 13,
      "outputs": [
        {
          "output_type": "stream",
          "name": "stdout",
          "text": [
            "Enter the time in seconds: 5\n",
            "Fire in the hole\n"
          ]
        }
      ]
    }
  ]
}